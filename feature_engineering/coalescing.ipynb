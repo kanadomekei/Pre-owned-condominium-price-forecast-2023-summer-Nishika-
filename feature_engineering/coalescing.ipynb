{
 "cells": [
  {
   "cell_type": "code",
   "execution_count": 1,
   "metadata": {},
   "outputs": [],
   "source": [
    "import pandas as pd"
   ]
  },
  {
   "cell_type": "code",
   "execution_count": 4,
   "metadata": {},
   "outputs": [
    {
     "name": "stderr",
     "output_type": "stream",
     "text": [
      "/tmp/ipykernel_18720/1168421877.py:17: DtypeWarning: Columns (10) have mixed types. Specify dtype option on import or set low_memory=False.\n",
      "  df = pd.read_csv(file_path)\n",
      "/tmp/ipykernel_18720/1168421877.py:17: DtypeWarning: Columns (10) have mixed types. Specify dtype option on import or set low_memory=False.\n",
      "  df = pd.read_csv(file_path)\n",
      "/tmp/ipykernel_18720/1168421877.py:17: DtypeWarning: Columns (10) have mixed types. Specify dtype option on import or set low_memory=False.\n",
      "  df = pd.read_csv(file_path)\n",
      "/tmp/ipykernel_18720/1168421877.py:17: DtypeWarning: Columns (10) have mixed types. Specify dtype option on import or set low_memory=False.\n",
      "  df = pd.read_csv(file_path)\n"
     ]
    }
   ],
   "source": [
    "import pandas as pd\n",
    "import os\n",
    "\n",
    "# ファイルが保存されているディレクトリのパス\n",
    "directory_path = \"../data/train/\"\n",
    "\n",
    "# 連結するCSVファイルの名前のリストを作成\n",
    "csv_files = [f\"{i:02d}.csv\" for i in range(1, 48)]  # 01.csv, 02.csv, ..., 47.csv\n",
    "\n",
    "# 空のDataFrameを作成\n",
    "concatenated_df = pd.DataFrame()\n",
    "\n",
    "# 各CSVファイルを読み込み、連結\n",
    "for csv_file in csv_files:\n",
    "    file_path = os.path.join(directory_path, csv_file)\n",
    "    if os.path.exists(file_path):\n",
    "        df = pd.read_csv(file_path)\n",
    "        concatenated_df = pd.concat([concatenated_df, df], ignore_index=True)\n",
    "    else:\n",
    "        print(f\"ファイル {file_path} が存在しません。\")\n",
    "\n",
    "# 連結したデータを新しいCSVファイルに保存\n",
    "concatenated_df.to_csv(\"../data_processed/all_data.csv\", index=False)\n"
   ]
  }
 ],
 "metadata": {
  "kernelspec": {
   "display_name": "base",
   "language": "python",
   "name": "python3"
  },
  "language_info": {
   "codemirror_mode": {
    "name": "ipython",
    "version": 3
   },
   "file_extension": ".py",
   "mimetype": "text/x-python",
   "name": "python",
   "nbconvert_exporter": "python",
   "pygments_lexer": "ipython3",
   "version": "3.9.7"
  },
  "orig_nbformat": 4
 },
 "nbformat": 4,
 "nbformat_minor": 2
}
